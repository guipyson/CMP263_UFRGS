{
 "cells": [
  {
   "cell_type": "code",
   "execution_count": null,
   "metadata": {},
   "outputs": [],
   "source": [
    "import pandas as pd\n",
    "import seaborn as sns\n",
    "import matplotlib.pyplot as plt\n",
    "from sklearn.model_selection import train_test_split"
   ]
  },
  {
   "cell_type": "code",
   "execution_count": null,
   "metadata": {},
   "outputs": [],
   "source": [
    "df = pd.read_csv(\"data/df_new_feats.csv\")\n",
    "\n",
    "df_new = df.query(\"`Country of Origin` not in ('Panama', 'Myanmar', 'Kenya', 'Madagascar')\")\n",
    "f'we kept {100*df_new.shape[0]/ df.shape[0]:3.2f}% of the data'"
   ]
  },
  {
   "cell_type": "markdown",
   "metadata": {},
   "source": [
    "Por estratificar o conjunto de teste pelos países, mantemos uma distribuição parecida de alturas e continentes para ambos conjuntos de dados. Logo, podemos trabalhar com três objetivos ao mesmo tempo."
   ]
  },
  {
   "cell_type": "code",
   "execution_count": null,
   "metadata": {},
   "outputs": [],
   "source": [
    "df_x = df_new[['Aroma', 'Flavor', 'Aftertaste', 'Acidity', 'Body', 'Balance', 'Overall', 'continent', 'new_altitude']]\n",
    "df_y = df_new[['Country of Origin']]\n",
    "\n",
    "X_train_all, X_test_all, y_train_country, y_test_country = train_test_split(df_x, df_y, test_size=0.3, stratify=df_y)\n",
    "\n",
    "fig, axes = plt.subplots(1, 2, figsize=(15, 5))\n",
    "sns.countplot(data=X_train_all, ax=axes[0] , x=\"continent\", order=[\"America\", \"Asia\", \"Africa\"])\n",
    "axes[0].set_title(\"Train\")\n",
    "sns.countplot(data=X_test_all, ax=axes[1] , x=\"continent\", order=[\"America\", \"Asia\", \"Africa\"])\n",
    "axes[1].set_title(\"Test\")\n",
    "axes[1].set(ylabel=None)    \n",
    "plt.show()\n",
    "\n",
    "\n",
    "X_train_all['split'] = ['train'] * X_train_all.shape[0]\n",
    "X_test_all['split'] = ['test'] * X_test_all.shape[0]\n",
    "s_all = pd.concat([X_train_all,X_test_all])\n",
    "s_all['altitude'] = s_all['new_altitude']\n",
    "ax = sns.boxplot(s_all,x='split', y='altitude')\n",
    "ax.set(xlabel=None)\n",
    "ax.set(title=\"Altitude por divisão do dataset\")"
   ]
  },
  {
   "cell_type": "code",
   "execution_count": null,
   "metadata": {},
   "outputs": [],
   "source": [
    "## Arrumando as variáveis - o train_test_split nao permite ter um y com mais de uma variável\n",
    "\n",
    "y_train_continent = X_train_all['continent']\n",
    "y_train_altitude = X_train_all['new_altitude']\n",
    "\n",
    "y_test_continent = X_test_all['continent']\n",
    "y_test_altitude = X_test_all['new_altitude']\n",
    "\n",
    "X_train = X_train_all[['Aroma', 'Flavor', 'Aftertaste', 'Acidity', 'Body', 'Balance', 'Overall']]\n",
    "X_test = X_test_all[['Aroma', 'Flavor', 'Aftertaste', 'Acidity', 'Body', 'Balance', 'Overall']]"
   ]
  },
  {
   "cell_type": "code",
   "execution_count": null,
   "metadata": {},
   "outputs": [],
   "source": [
    "\n",
    "# Declare the inner and outer cross-validation strategies\n",
    "inner_cv = KFold(n_splits=4, shuffle=True, random_state=42)\n",
    "outer_cv = KFold(n_splits=4, shuffle=True, random_state=42)\n",
    "\n",
    "# Inner cross-validation for parameter search\n",
    "model = GridSearchCV(\n",
    "    estimator=pipe, \n",
    "    param_grid=param_grid, \n",
    "    scoring=\"f1_macro\", \n",
    "    cv=inner_cv, \n",
    "    n_jobs=1,\n",
    "    return_train_score=True\n",
    ")\n",
    "\n",
    "# Outer cross-validation to compute the testing score\n",
    "test_score = cross_val_score(model, X_train, y_train_continent, cv=outer_cv, scoring=\"f1_macro\", n_jobs=1)\n",
    "\n",
    "print(\n",
    "    \"The mean score using nested cross-validation is: \"\n",
    "    f\"{test_score.mean():.3f} ± {test_score.std():.3f}\"\n",
    ")"
   ]
  }
 ],
 "metadata": {
  "language_info": {
   "name": "python"
  },
  "orig_nbformat": 4
 },
 "nbformat": 4,
 "nbformat_minor": 2
}

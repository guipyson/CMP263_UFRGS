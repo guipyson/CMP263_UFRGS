{
 "cells": [
  {
   "cell_type": "code",
   "execution_count": 1,
   "metadata": {},
   "outputs": [],
   "source": [
    "import pandas as pd\n",
    "import seaborn as sns\n",
    "import matplotlib.pyplot as plt\n",
    "from sklearn.model_selection import train_test_split\n"
   ]
  },
  {
   "cell_type": "code",
   "execution_count": 2,
   "metadata": {},
   "outputs": [],
   "source": [
    "df = pd.read_csv(\"data/df_new_feats.csv\")\n",
    "\n",
    "df_x = df[['Aroma', 'Flavor', 'Aftertaste', 'Acidity', 'Body', 'Balance', 'Overall']]\n",
    "df_y = df[['continent']]\n",
    "\n",
    "X_train, X_test, y_train, y_test = train_test_split(df_x, df_y, test_size=0.3, stratify=df_y, random_state=42)\n"
   ]
  },
  {
   "cell_type": "code",
   "execution_count": 18,
   "metadata": {},
   "outputs": [],
   "source": [
    "from sklearn.preprocessing import StandardScaler\n",
    "from imblearn.over_sampling import SMOTE\n",
    "from sklearn.neighbors import KNeighborsClassifier\n",
    "from sklearn.naive_bayes import GaussianNB\n",
    "from sklearn.svm import SVC\n",
    "from sklearn.tree import DecisionTreeClassifier\n",
    "from sklearn.ensemble import RandomForestClassifier, AdaBoostClassifier\n",
    "from sklearn.model_selection import cross_val_score, KFold, GridSearchCV, StratifiedKFold\n",
    "from imblearn.pipeline import Pipeline as imbpipeline\n",
    "from sklearn.metrics import f1_score\n",
    "import numpy as np\n",
    "from tqdm import tqdm\n",
    "\n",
    "def make_model(ml_model, model_name):\n",
    "    scaler = StandardScaler()\n",
    "    sm = SMOTE(random_state=42,k_neighbors=5)\n",
    "    pipe = imbpipeline(steps=[(\"smote\", sm), (\"scaler\", scaler), (model_name, ml_model)])\n",
    "    return pipe\n",
    "\n",
    "class ModelEvaluator:\n",
    "\n",
    "    def __init__(self, model_name, model, param_grid, pipeline_maker = make_model ):\n",
    "        self.name = model_name\n",
    "        self.estimator = pipeline_maker(model, model_name)\n",
    "        self.best_params = []\n",
    "        self.outer_cv_score = []\n",
    "        self.param_grid = param_grid\n",
    "\n",
    "    def push_best_params(self, entry):\n",
    "        self.best_params.append(entry)\n",
    "\n",
    "    def push_inner_cv_score(self, entry):\n",
    "        self.best_params.append(entry)\n",
    "    \n",
    "    def push_outer_cv_score(self, entry):\n",
    "        self.outer_cv_score.append(entry)\n",
    "\n",
    "    def get_outer_cv_score_results(self):\n",
    "        ocvs = np.array(self.outer_cv_score)\n",
    "        return ocvs.mean(), ocvs.std()\n",
    "\n",
    "def make_classification_model_list():\n",
    "\n",
    "    model_list = [None] * 6\n",
    "\n",
    "    model_list[0] = ModelEvaluator(\n",
    "        model_name = \"knn\",\n",
    "        model = KNeighborsClassifier(),\n",
    "        param_grid = {\n",
    "            \"knn__n_neighbors\": [3,5,7,9],\n",
    "            \"knn__p\": [1, 1.5, 2],       \n",
    "        }\n",
    "    )\n",
    "\n",
    "    model_list[1] = ModelEvaluator(\n",
    "        model_name = \"svc\",\n",
    "        model = SVC(),\n",
    "        param_grid = {\n",
    "            \"svc__C\": [0.01,0.1,0.5,1,5,10,50,100],\n",
    "            \"svc__kernel\": [\"linear\", \"poly\", \"rbf\", \"sigmoid\"],       \n",
    "        }\n",
    "    )\n",
    "\n",
    "    model_list[2] = ModelEvaluator(\n",
    "        model_name = \"gnb\",\n",
    "        model = GaussianNB(),\n",
    "        param_grid = {}\n",
    "    )\n",
    "\n",
    "    model_list[3] = ModelEvaluator(\n",
    "        model_name = \"dt\",\n",
    "        model = DecisionTreeClassifier(random_state=42),\n",
    "        param_grid = {\n",
    "            \"dt__criterion\": [\"gini\", \"entropy\"],\n",
    "            \"dt__ccp_alpha\": [0,0.005,0.01,0.015,0.02,0.03]\n",
    "        }\n",
    "    )\n",
    "\n",
    "    model_list[4] = ModelEvaluator(\n",
    "        model_name = \"rf\",\n",
    "        model = RandomForestClassifier(random_state=42),\n",
    "        param_grid = {}\n",
    "    )\n",
    "\n",
    "    model_list[5] = ModelEvaluator(\n",
    "        model_name = \"ada\",\n",
    "        model = AdaBoostClassifier(random_state=42),\n",
    "        param_grid = {}\n",
    "    )\n",
    "    return model_list\n",
    "\n",
    "continent_model_list = make_classification_model_list()\n"
   ]
  },
  {
   "cell_type": "code",
   "execution_count": 19,
   "metadata": {},
   "outputs": [],
   "source": [
    "def f1_macro_scorer(model, X, y):\n",
    "    return f1_score(model.predict(X),y, average=\"macro\")\n",
    "\n",
    "\n",
    "def nested_cross_valitation(outer_folds, inner_folds, model_list, scorer, X_train, y_train, n_trials=1):\n",
    "\n",
    "    outer_cv = StratifiedKFold(n_splits=outer_folds, shuffle=True, random_state=42)\n",
    "    NUM_TRIALS = n_trials\n",
    "    for i in range(NUM_TRIALS):\n",
    "        inner_cv = StratifiedKFold(n_splits=inner_folds, shuffle=True, random_state=42)\n",
    "        for train, test in outer_cv.split(X_train, y_train):\n",
    "            for model in model_list:\n",
    "                clf = GridSearchCV(estimator=model.estimator, param_grid=model.param_grid, cv=inner_cv)\n",
    "                clf.fit(X_train.iloc[train], y_train[train])\n",
    "                outer_cv_score = scorer(clf, X=X_train.iloc[test], y=y_train[test])\n",
    "                model.push_best_params(clf.best_params_)\n",
    "                model.push_outer_cv_score(outer_cv_score)\n",
    "\n",
    "nested_cross_valitation(\n",
    "    model_list = continent_model_list,\n",
    "    outer_folds = 5,\n",
    "    inner_folds = 5,\n",
    "    scorer = f1_macro_scorer,\n",
    "    X_train = X_train,\n",
    "    y_train = y_train[\"continent\"].ravel() #warning chato\n",
    ")\n"
   ]
  },
  {
   "cell_type": "code",
   "execution_count": 20,
   "metadata": {},
   "outputs": [
    {
     "name": "stdout",
     "output_type": "stream",
     "text": [
      "knn mean: 0.48 (0.12)\n",
      "svc mean: 0.45 (0.09)\n",
      "gnb mean: 0.35 (0.07)\n",
      "dt mean: 0.48 (0.13)\n",
      "rf mean: 0.49 (0.09)\n",
      "ada mean: 0.30 (0.07)\n"
     ]
    }
   ],
   "source": [
    "for model in continent_model_list:\n",
    "    mean, std = model.get_outer_cv_score_results()\n",
    "    print(f\"{model.name} mean: {mean:1.2f} ({std:1.2f})\")"
   ]
  },
  {
   "cell_type": "code",
   "execution_count": 32,
   "metadata": {},
   "outputs": [
    {
     "data": {
      "text/plain": [
       "[{'dt__ccp_alpha': 0.015, 'dt__criterion': 'entropy'},\n",
       " {'dt__ccp_alpha': 0.015, 'dt__criterion': 'gini'},\n",
       " {'dt__ccp_alpha': 0.02, 'dt__criterion': 'entropy'},\n",
       " {'dt__ccp_alpha': 0, 'dt__criterion': 'gini'},\n",
       " {'dt__ccp_alpha': 0.03, 'dt__criterion': 'gini'}]"
      ]
     },
     "execution_count": 32,
     "metadata": {},
     "output_type": "execute_result"
    }
   ],
   "source": [
    "continent_model_list[3].best_params"
   ]
  },
  {
   "cell_type": "code",
   "execution_count": 24,
   "metadata": {},
   "outputs": [
    {
     "name": "stderr",
     "output_type": "stream",
     "text": [
      "/Users/felipepaula1/miniconda3/envs/uqa37/lib/python3.7/site-packages/imblearn/pipeline.py:297: DataConversionWarning: A column-vector y was passed when a 1d array was expected. Please change the shape of y to (n_samples,), for example using ravel().\n",
      "  self._final_estimator.fit(Xt, yt, **fit_params_last_step)\n"
     ]
    },
    {
     "name": "stdout",
     "output_type": "stream",
     "text": [
      "              precision    recall  f1-score   support\n",
      "\n",
      "      Africa       0.40      0.29      0.33         7\n",
      "     America       0.56      0.47      0.51        30\n",
      "        Asia       0.44      0.56      0.49        25\n",
      "\n",
      "    accuracy                           0.48        62\n",
      "   macro avg       0.47      0.44      0.44        62\n",
      "weighted avg       0.49      0.48      0.48        62\n",
      "\n"
     ]
    }
   ],
   "source": [
    "from sklearn.metrics import classification_report\n",
    "\n",
    "\n",
    "best_model = make_model(RandomForestClassifier(random_state=42),\"rf\")\n",
    "best_model.fit(X_train, y_train)\n",
    "print(classification_report(y_test, best_model.predict(X_test)))"
   ]
  },
  {
   "cell_type": "code",
   "execution_count": 33,
   "metadata": {},
   "outputs": [],
   "source": [
    "report = classification_report(y_test, best_model.predict(X_test), output_dict=True)"
   ]
  },
  {
   "cell_type": "code",
   "execution_count": 41,
   "metadata": {},
   "outputs": [],
   "source": [
    "ans = []\n",
    "conts = [\"America\", \"Asia\", \"Africa\"]\n",
    "for cont in conts:\n",
    "    dico = report[cont]\n",
    "    ans.append(pd.DataFrame({\n",
    "        \"Continent\": [cont] * 2,\n",
    "        \"metric\": [\"precision\", \"recall\"],\n",
    "        \"value\": [dico[\"precision\"], dico[\"recall\"]] }))\n",
    "\n",
    "report_df = pd.concat(ans)"
   ]
  },
  {
   "cell_type": "code",
   "execution_count": 42,
   "metadata": {},
   "outputs": [
    {
     "data": {
      "text/html": [
       "<div>\n",
       "<style scoped>\n",
       "    .dataframe tbody tr th:only-of-type {\n",
       "        vertical-align: middle;\n",
       "    }\n",
       "\n",
       "    .dataframe tbody tr th {\n",
       "        vertical-align: top;\n",
       "    }\n",
       "\n",
       "    .dataframe thead th {\n",
       "        text-align: right;\n",
       "    }\n",
       "</style>\n",
       "<table border=\"1\" class=\"dataframe\">\n",
       "  <thead>\n",
       "    <tr style=\"text-align: right;\">\n",
       "      <th></th>\n",
       "      <th>Continent</th>\n",
       "      <th>metric</th>\n",
       "      <th>value</th>\n",
       "    </tr>\n",
       "  </thead>\n",
       "  <tbody>\n",
       "    <tr>\n",
       "      <th>0</th>\n",
       "      <td>America</td>\n",
       "      <td>precision</td>\n",
       "      <td>0.560000</td>\n",
       "    </tr>\n",
       "    <tr>\n",
       "      <th>1</th>\n",
       "      <td>America</td>\n",
       "      <td>recall</td>\n",
       "      <td>0.466667</td>\n",
       "    </tr>\n",
       "    <tr>\n",
       "      <th>0</th>\n",
       "      <td>Asia</td>\n",
       "      <td>precision</td>\n",
       "      <td>0.437500</td>\n",
       "    </tr>\n",
       "    <tr>\n",
       "      <th>1</th>\n",
       "      <td>Asia</td>\n",
       "      <td>recall</td>\n",
       "      <td>0.560000</td>\n",
       "    </tr>\n",
       "    <tr>\n",
       "      <th>0</th>\n",
       "      <td>Africa</td>\n",
       "      <td>precision</td>\n",
       "      <td>0.400000</td>\n",
       "    </tr>\n",
       "    <tr>\n",
       "      <th>1</th>\n",
       "      <td>Africa</td>\n",
       "      <td>recall</td>\n",
       "      <td>0.285714</td>\n",
       "    </tr>\n",
       "  </tbody>\n",
       "</table>\n",
       "</div>"
      ],
      "text/plain": [
       "  Continent     metric     value\n",
       "0   America  precision  0.560000\n",
       "1   America     recall  0.466667\n",
       "0      Asia  precision  0.437500\n",
       "1      Asia     recall  0.560000\n",
       "0    Africa  precision  0.400000\n",
       "1    Africa     recall  0.285714"
      ]
     },
     "execution_count": 42,
     "metadata": {},
     "output_type": "execute_result"
    }
   ],
   "source": [
    "report_df"
   ]
  },
  {
   "cell_type": "code",
   "execution_count": 47,
   "metadata": {},
   "outputs": [
    {
     "data": {
      "image/png": "[encoded data removed]",
      "text/plain": [
       "<Figure size 640x480 with 1 Axes>"
      ]
     },
     "metadata": {},
     "output_type": "display_data"
    }
   ],
   "source": [
    "ax = sns.barplot(data=report_df, x=\"Continent\", y=\"value\", hue=\"metric\")\n",
    "\n",
    "for i in ax.containers:\n",
    "    ax.bar_label(i,)"
   ]
  }
 ],
 "metadata": {
  "kernelspec": {
   "display_name": "uqa37",
   "language": "python",
   "name": "python3"
  },
  "language_info": {
   "codemirror_mode": {
    "name": "ipython",
    "version": 3
   },
   "file_extension": ".py",
   "mimetype": "text/x-python",
   "name": "python",
   "nbconvert_exporter": "python",
   "pygments_lexer": "ipython3",
   "version": "3.7.16"
  },
  "orig_nbformat": 4
 },
 "nbformat": 4,
 "nbformat_minor": 2
}
